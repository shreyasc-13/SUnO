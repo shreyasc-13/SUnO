{
 "cells": [
  {
   "cell_type": "code",
   "execution_count": 1,
   "metadata": {},
   "outputs": [],
   "source": [
    "import numpy as np\n",
    "import pandas as pd\n",
    "import matplotlib.pyplot as plt\n",
    "from scipy.sparse import *\n",
    "from sklearn.preprocessing import MultiLabelBinarizer\n",
    "import bottleneck as bn\n",
    "from tqdm import tqdm\n",
    "from collections import defaultdict\n",
    "import pickle"
   ]
  },
  {
   "cell_type": "code",
   "execution_count": 21,
   "metadata": {},
   "outputs": [],
   "source": [
    "users = load_npz('train.npz')\n",
    "# users = load_npz('test.npz')\n",
    "B = load_npz('B_movielens.npz')\n",
    "\n",
    "NUM_ACTIONS = 20"
   ]
  },
  {
   "cell_type": "code",
   "execution_count": 11,
   "metadata": {},
   "outputs": [
    {
     "name": "stderr",
     "output_type": "stream",
     "text": [
      "116477it [00:05, 20011.59it/s]\n"
     ]
    }
   ],
   "source": [
    "context_lengths = []\n",
    "for u in tqdm(users):\n",
    "    context_lengths.append(csr_matrix.count_nonzero(u))\n",
    "context_lengths = np.array(context_lengths)"
   ]
  },
  {
   "cell_type": "markdown",
   "metadata": {},
   "source": [
    "### Analysis\n",
    "To trim down number of users based on context length\n",
    "\n",
    "Result: ~10k users with a context lengths of [10, 11, 12, 13, 14, 15], `user_trimmed` contains those users used for experiments going forward"
   ]
  },
  {
   "cell_type": "code",
   "execution_count": 17,
   "metadata": {},
   "outputs": [
    {
     "name": "stdout",
     "output_type": "stream",
     "text": [
      "Max user context = 3177; \t Min user context = 0; \t Mean user context = 71.26276432257012\n"
     ]
    },
    {
     "data": {
      "text/plain": [
       "Text(0.5, 0, 'Context length')"
      ]
     },
     "execution_count": 17,
     "metadata": {},
     "output_type": "execute_result"
    },
    {
     "data": {
      "image/png": "[encoded data removed]",
      "text/plain": [
       "<Figure size 432x288 with 1 Axes>"
      ]
     },
     "metadata": {
      "needs_background": "light"
     },
     "output_type": "display_data"
    }
   ],
   "source": [
    "# User context lengths -- some stats\n",
    "print(f\"Max user context = {np.max(context_lengths)}; \\t Min user context = {np.min(context_lengths)}; \\t Mean user context = {np.mean(context_lengths)}\")\n",
    "\n",
    "# User context lengths up till 10\n",
    "topk = 20\n",
    "context_lengths_top = []\n",
    "for i in range(topk):\n",
    "    context_lengths_top.append(len(context_lengths[context_lengths == i+1]))\n",
    "\n",
    "_ = plt.bar(range(1,topk+1), context_lengths_top)\n",
    "_ = plt.xticks(range(1,topk+1))\n",
    "plt.yscale('log')\n",
    "plt.ylabel('Number of users')\n",
    "plt.xlabel('Context length')"
   ]
  },
  {
   "cell_type": "code",
   "execution_count": 19,
   "metadata": {},
   "outputs": [],
   "source": [
    "trimmed_context_lengths = [10, 11, 12, 13, 14, 15]\n",
    "# Pick the users with decided context length\n",
    "trim_idx = [csr_matrix.count_nonzero(u) in trimmed_context_lengths for u in users]\n",
    "users_trimmed = users[trim_idx]"
   ]
  },
  {
   "cell_type": "markdown",
   "metadata": {},
   "source": [
    "### Create trimmed action set\n",
    "Filtered user preferences still computed with global `B` and thus the user context dimension stays the same"
   ]
  },
  {
   "cell_type": "code",
   "execution_count": 22,
   "metadata": {},
   "outputs": [],
   "source": [
    "user_action_set = defaultdict()\n",
    "# user_ids = list(range(X_trimmed.shape[0]))\n",
    "i = 0\n",
    "for x in users_trimmed:\n",
    "    user_score = (x @ B).toarray()[0]\n",
    "    user_score[x.nonzero()[1]] = -np.inf\n",
    "    action_idx = (-user_score).argpartition(NUM_ACTIONS)[:NUM_ACTIONS]\n",
    "    # Filter out users that have no non-zero gt scores\n",
    "    if np.sum(user_score[action_idx]) == 0:\n",
    "        print(\"hmm\")\n",
    "        continue\n",
    "    user_action_set[i] = list(zip(action_idx, user_score[action_idx]))\n",
    "    i += 1 "
   ]
  },
  {
   "cell_type": "code",
   "execution_count": 24,
   "metadata": {},
   "outputs": [],
   "source": [
    "# Dump to a file for user conditioned policies and rewards\n",
    "f = open(f'user_action_set_historylength.pkl', 'wb')\n",
    "pickle.dump(user_action_set, f)\n",
    "f.close()"
   ]
  }
 ],
 "metadata": {
  "kernelspec": {
   "display_name": "Python 3.9.12 ('py39')",
   "language": "python",
   "name": "python3"
  },
  "language_info": {
   "codemirror_mode": {
    "name": "ipython",
    "version": 3
   },
   "file_extension": ".py",
   "mimetype": "text/x-python",
   "name": "python",
   "nbconvert_exporter": "python",
   "pygments_lexer": "ipython3",
   "version": "3.9.12"
  },
  "orig_nbformat": 4,
  "vscode": {
   "interpreter": {
    "hash": "980951362f214b6693c5ad85e9fc7acfa7233f3cfd9af36c5a68f755e62e4a88"
   }
  }
 },
 "nbformat": 4,
 "nbformat_minor": 2
}
